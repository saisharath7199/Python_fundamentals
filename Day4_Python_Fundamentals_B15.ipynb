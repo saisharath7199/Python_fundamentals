{
 "cells": [
  {
   "cell_type": "code",
   "execution_count": null,
   "metadata": {},
   "outputs": [],
   "source": [
    " #Day4 Introduction to list data type"
   ]
  },
  {
   "cell_type": "code",
   "execution_count": null,
   "metadata": {},
   "outputs": [],
   "source": [
    "# A list is nothing but a collection of items in particular order\n",
    "# List datatype is classified as mutable datatype: (edit/modify/alter and reassign)"
   ]
  },
  {
   "cell_type": "code",
   "execution_count": null,
   "metadata": {},
   "outputs": [],
   "source": [
    "#Defining a list datatype is by using square brackets []"
   ]
  },
  {
   "cell_type": "code",
   "execution_count": 3,
   "metadata": {},
   "outputs": [
    {
     "name": "stdout",
     "output_type": "stream",
     "text": [
      "['vivek', 'sahil', 'kumar', 'shiva']\n"
     ]
    }
   ],
   "source": [
    "students = ['vivek','sahil','kumar','shiva']  #0,1,2,3(index no's)\n",
    "print(students)"
   ]
  },
  {
   "cell_type": "code",
   "execution_count": 4,
   "metadata": {},
   "outputs": [
    {
     "data": {
      "text/plain": [
       "list"
      ]
     },
     "execution_count": 4,
     "metadata": {},
     "output_type": "execute_result"
    }
   ],
   "source": [
    "type(students)    #checking datatype"
   ]
  },
  {
   "cell_type": "code",
   "execution_count": null,
   "metadata": {},
   "outputs": [],
   "source": [
    "#Introduction to indexing\n",
    "#indexing will be starting from (0,1,2,3,4,........)  (+ve indexing)"
   ]
  },
  {
   "cell_type": "code",
   "execution_count": 6,
   "metadata": {},
   "outputs": [
    {
     "name": "stdout",
     "output_type": "stream",
     "text": [
      "kumar\n"
     ]
    }
   ],
   "source": [
    "# Requirement : i want to access only kumar from the list\n",
    "print(students[2])               #using index number\n"
   ]
  },
  {
   "cell_type": "code",
   "execution_count": 7,
   "metadata": {},
   "outputs": [
    {
     "name": "stdout",
     "output_type": "stream",
     "text": [
      "sahil\n"
     ]
    }
   ],
   "source": [
    "print(students[1])"
   ]
  },
  {
   "cell_type": "code",
   "execution_count": 10,
   "metadata": {},
   "outputs": [
    {
     "name": "stdout",
     "output_type": "stream",
     "text": [
      "vivek\n",
      "vivek\n"
     ]
    }
   ],
   "source": [
    "#Concept of -ve indexing   (-1,-2,-3,-4,.......) (starts from the right side)\n",
    "\n",
    "#Requirement : By using +ve and +ve indexing i want to print vivek name\n",
    "\n",
    "print(students[0])\n",
    "print(students[-4])\n"
   ]
  },
  {
   "cell_type": "code",
   "execution_count": 16,
   "metadata": {},
   "outputs": [
    {
     "name": "stdout",
     "output_type": "stream",
     "text": [
      "['sai', 'shiva', 'sahil', 'karan', 'saif', 'karthik']\n",
      "['sai', 'shiva', 'sahil', 'krishna', 'saif', 'karthik']\n"
     ]
    }
   ],
   "source": [
    "#Reassigning the elements in the list\n",
    "\n",
    "my_students = ['sai','shiva','sahil','karan','saif','karthik']\n",
    "print(my_students)\n",
    "\n",
    "#Requirement : karan name should be replaced by krishna  (Reassign)\n",
    "my_students[3] = 'krishna'\n",
    "print(my_students)\n",
    "\n",
    "\n",
    "\n"
   ]
  },
  {
   "cell_type": "code",
   "execution_count": 70,
   "metadata": {},
   "outputs": [
    {
     "name": "stdout",
     "output_type": "stream",
     "text": [
      "['sai', 'shiva', 'sahil', 'karan', 'saif', 'karthik']\n",
      "['sai', 'shiva', 'sahil', 'karan', 'saif', 'karthik', 'harsha']\n",
      "['sai', 'pavan', 'shiva', 'sahil', 'karan', 'saif', 'karthik', 'harsha']\n"
     ]
    }
   ],
   "source": [
    "#Adding new elements to the list (Using append,insert)\n",
    "\n",
    "#Requirement : I want to add a new member to the list   (Adding)---------> By using append method. By default it will be added to the last of list\n",
    "my_students = ['sai','shiva','sahil','karan','saif','karthik']\n",
    "print(my_students)\n",
    "my_students.append('harsha')\n",
    "print(my_students)\n",
    "\n",
    "#Requirement : I want to add a new member to the list to the 1st index position\n",
    "my_students.insert(1,'pavan')\n",
    "print(my_students)"
   ]
  },
  {
   "cell_type": "code",
   "execution_count": 75,
   "metadata": {},
   "outputs": [
    {
     "name": "stdout",
     "output_type": "stream",
     "text": [
      "['sai', 'pavan', 'shiva', 'sahil', 'harsha']\n",
      "['sai', 'pavan', 'shiva', 'sahil']\n"
     ]
    }
   ],
   "source": [
    "#Deleting elements from the list ( Using del,pop)\n",
    "\n",
    "#Requirement : i want to delete harsha from the list \n",
    "print(my_students)\n",
    "del my_students[4]\n",
    "print(my_students)\n",
    "\n"
   ]
  },
  {
   "cell_type": "code",
   "execution_count": 82,
   "metadata": {},
   "outputs": [
    {
     "name": "stdout",
     "output_type": "stream",
     "text": [
      "['Iron_man', 'thor', 'avengers', 'black_panther', 'Hulk']\n",
      "Hulk\n",
      "['Iron_man', 'thor', 'avengers', 'black_panther']\n",
      "['Iron_man', 'avengers', 'black_panther']\n"
     ]
    }
   ],
   "source": [
    "#Deleting elements from the list using pop \n",
    "\n",
    "movies = ['Iron_man','thor','avengers','black_panther','Hulk']\n",
    "print(movies)\n",
    "x = movies.pop()    #By default it will delete the last element\n",
    "print(x)\n",
    "print(movies)  \n",
    "\n",
    "#Requirement : suppose i want to delete the thor by using pop\n",
    "movies.pop(1)\n",
    "print(movies)\n",
    "\n",
    "# Note : pop will not delete the element permanently, but it will store a carboncopy of that element\n",
    "\n"
   ]
  },
  {
   "cell_type": "code",
   "execution_count": null,
   "metadata": {},
   "outputs": [],
   "source": [
    "#End of Program"
   ]
  },
  {
   "cell_type": "code",
   "execution_count": null,
   "metadata": {},
   "outputs": [],
   "source": []
  }
 ],
 "metadata": {
  "kernelspec": {
   "display_name": "Python 3",
   "language": "python",
   "name": "python3"
  },
  "language_info": {
   "codemirror_mode": {
    "name": "ipython",
    "version": 3
   },
   "file_extension": ".py",
   "mimetype": "text/x-python",
   "name": "python",
   "nbconvert_exporter": "python",
   "pygments_lexer": "ipython3",
   "version": "3.7.6"
  }
 },
 "nbformat": 4,
 "nbformat_minor": 4
}
