{
 "cells": [
  {
   "cell_type": "code",
   "execution_count": null,
   "metadata": {},
   "outputs": [],
   "source": [
    "#Introduction to f strings"
   ]
  },
  {
   "cell_type": "code",
   "execution_count": 1,
   "metadata": {},
   "outputs": [
    {
     "name": "stdout",
     "output_type": "stream",
     "text": [
      "python fundamentals\n"
     ]
    }
   ],
   "source": [
    "#f strings concept is used to create the place holder and building relations of the variables\n",
    "# General syntax of f string\n",
    "# f\"{place holder 1} {place holder 2}\"\n",
    "\n",
    "first_name = 'python'\n",
    "second_name = 'fundamentals'\n",
    "full_name = f'{first_name} {second_name}'\n",
    "print(full_name)"
   ]
  },
  {
   "cell_type": "code",
   "execution_count": 2,
   "metadata": {},
   "outputs": [
    {
     "name": "stdout",
     "output_type": "stream",
     "text": [
      "abcdefghi\n"
     ]
    }
   ],
   "source": [
    "first_name = 'abc'\n",
    "second_name = 'def'\n",
    "last_name = 'ghi'\n",
    "full_name = f\"{first_name}{second_name}{last_name}\"\n",
    "print(full_name)"
   ]
  },
  {
   "cell_type": "code",
   "execution_count": 3,
   "metadata": {},
   "outputs": [
    {
     "name": "stdout",
     "output_type": "stream",
     "text": [
      "Thanks for completing the work on time abc def\n"
     ]
    }
   ],
   "source": [
    "#Enhancement of f strings\n",
    "\n",
    "first_name = 'abc'\n",
    "last_name = 'def'\n",
    "message = f\"Thanks for completing the work on time {first_name} {last_name}\"\n",
    "print(message)"
   ]
  },
  {
   "cell_type": "code",
   "execution_count": 4,
   "metadata": {},
   "outputs": [
    {
     "name": "stdout",
     "output_type": "stream",
     "text": [
      "Thanks for completing the work on time Abc DEF\n"
     ]
    }
   ],
   "source": [
    "#Furthur Enhancement\n",
    "\n",
    "first_name = 'abc'\n",
    "last_name = 'def'\n",
    "message = f\"Thanks for completing the work on time {first_name.title()} {last_name.upper()}\"\n",
    "print(message)"
   ]
  },
  {
   "cell_type": "code",
   "execution_count": 5,
   "metadata": {},
   "outputs": [
    {
     "name": "stdout",
     "output_type": "stream",
     "text": [
      "python\n",
      "python c c++\n",
      "python\n",
      " c\n",
      " c++\n",
      "\n",
      "\tpython\n",
      "favourite languages: \t\n",
      "python \t\n",
      "java \t\n",
      "c++\n",
      "favourite languages: \n",
      "\tpython \n",
      "\tjava \n",
      "\tc++\n"
     ]
    }
   ],
   "source": [
    "#Adding white spaces to the strings\n",
    "\n",
    "print('python')\n",
    "print('python','c','c++')\n",
    "print('python\\n','c\\n','c++\\n') #\\n is used to print the character in the new line (\\n ---> new line delimiter)\n",
    "print('\\tpython') #\\t is used to add a new tab (\\n ----> new tab delimiter)\n",
    "print('favourite languages:', '\\t\\npython','\\t\\njava','\\t\\nc++')\n",
    "print('favourite languages:', '\\n\\tpython','\\n\\tjava','\\n\\tc++')"
   ]
  },
  {
   "cell_type": "code",
   "execution_count": 6,
   "metadata": {},
   "outputs": [
    {
     "name": "stdout",
     "output_type": "stream",
     "text": [
      " python\n",
      "java \n"
     ]
    }
   ],
   "source": [
    "#Removing white spaces from strings\n",
    "\n",
    "x = ' python'\n",
    "y= 'java '\n",
    "print(x)\n",
    "print(y)\n"
   ]
  },
  {
   "cell_type": "code",
   "execution_count": 7,
   "metadata": {},
   "outputs": [
    {
     "name": "stdout",
     "output_type": "stream",
     "text": [
      " python\n"
     ]
    },
    {
     "data": {
      "text/plain": [
       "'python'"
      ]
     },
     "execution_count": 7,
     "metadata": {},
     "output_type": "execute_result"
    }
   ],
   "source": [
    "print(x)\n",
    "x.lstrip()  #left strip, moves to left if any white space is there (left strip)"
   ]
  },
  {
   "cell_type": "code",
   "execution_count": 8,
   "metadata": {},
   "outputs": [
    {
     "name": "stdout",
     "output_type": "stream",
     "text": [
      "java \n"
     ]
    },
    {
     "data": {
      "text/plain": [
       "'java'"
      ]
     },
     "execution_count": 8,
     "metadata": {},
     "output_type": "execute_result"
    }
   ],
   "source": [
    "print(y)\n",
    "y.rstrip()   #right strip, moves to right if any white space is there (right strip)\n"
   ]
  },
  {
   "cell_type": "code",
   "execution_count": 9,
   "metadata": {},
   "outputs": [
    {
     "data": {
      "text/plain": [
       "'yellow'"
      ]
     },
     "execution_count": 9,
     "metadata": {},
     "output_type": "execute_result"
    }
   ],
   "source": [
    "z= ' yellow '\n",
    "z.strip()  #strip, check both right and left white space and removes if any (strip only)"
   ]
  },
  {
   "cell_type": "code",
   "execution_count": 14,
   "metadata": {},
   "outputs": [
    {
     "data": {
      "text/plain": [
       "'yellow '"
      ]
     },
     "execution_count": 14,
     "metadata": {},
     "output_type": "execute_result"
    }
   ],
   "source": [
    "z.lstrip()   #lstrip"
   ]
  },
  {
   "cell_type": "code",
   "execution_count": 15,
   "metadata": {},
   "outputs": [
    {
     "data": {
      "text/plain": [
       "' yellow'"
      ]
     },
     "execution_count": 15,
     "metadata": {},
     "output_type": "execute_result"
    }
   ],
   "source": [
    "z.rstrip()    #rstrip"
   ]
  },
  {
   "cell_type": "code",
   "execution_count": 12,
   "metadata": {},
   "outputs": [],
   "source": [
    "#End of program!!!!!!"
   ]
  },
  {
   "cell_type": "code",
   "execution_count": null,
   "metadata": {},
   "outputs": [],
   "source": []
  }
 ],
 "metadata": {
  "kernelspec": {
   "display_name": "Python 3",
   "language": "python",
   "name": "python3"
  },
  "language_info": {
   "codemirror_mode": {
    "name": "ipython",
    "version": 3
   },
   "file_extension": ".py",
   "mimetype": "text/x-python",
   "name": "python",
   "nbconvert_exporter": "python",
   "pygments_lexer": "ipython3",
   "version": "3.7.6"
  }
 },
 "nbformat": 4,
 "nbformat_minor": 4
}
