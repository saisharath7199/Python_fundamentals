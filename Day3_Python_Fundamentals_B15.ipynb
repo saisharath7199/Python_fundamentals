{
 "cells": [
  {
   "cell_type": "code",
   "execution_count": null,
   "metadata": {},
   "outputs": [],
   "source": [
    "#Introduction to f strings"
   ]
  },
  {
   "cell_type": "code",
   "execution_count": null,
   "metadata": {},
   "outputs": [],
   "source": [
    "#f strings concept is used to create the place holder and building relations of the variables\n",
    "#General syntax of f string\n",
    "# f\"{place holder 1} {place holder 2}\"\n",
    "\n",
    "#Note: \n",
    "#1.There shouldn't be any space b/w f and place holder1 and the braces should be flower braces for using f string.\n",
    "#2.We can also use single or double quotes as used for strings.\n",
    "#3.spaces between placeholders are effective."
   ]
  },
  {
   "cell_type": "code",
   "execution_count": 5,
   "metadata": {},
   "outputs": [
    {
     "name": "stdout",
     "output_type": "stream",
     "text": [
      "python fundamentals\n"
     ]
    }
   ],
   "source": [
    "first_name = 'python'\n",
    "second_name = 'fundamentals'\n",
    "full_name = f'{first_name} {second_name}'\n",
    "print(full_name)"
   ]
  },
  {
   "cell_type": "code",
   "execution_count": 8,
   "metadata": {},
   "outputs": [
    {
     "name": "stdout",
     "output_type": "stream",
     "text": [
      "abcdefghi\n"
     ]
    }
   ],
   "source": [
    "first_name = 'abc'\n",
    "second_name = 'def'\n",
    "last_name = 'ghi'\n",
    "full_name = f\"{first_name}{second_name}{last_name}\"\n",
    "print(full_name)"
   ]
  },
  {
   "cell_type": "code",
   "execution_count": 11,
   "metadata": {},
   "outputs": [
    {
     "name": "stdout",
     "output_type": "stream",
     "text": [
      "Thanks for completing the work on time abc def\n"
     ]
    }
   ],
   "source": [
    "#Enhancement of f strings\n",
    "\n",
    "first_name = 'abc'\n",
    "last_name = 'def'\n",
    "message = f\"Thanks for completing the work on time {first_name} {last_name}\"\n",
    "print(message)"
   ]
  },
  {
   "cell_type": "code",
   "execution_count": 44,
   "metadata": {},
   "outputs": [
    {
     "name": "stdout",
     "output_type": "stream",
     "text": [
      "Thanks for completing the work on time Abc DEF\n"
     ]
    }
   ],
   "source": [
    "#Furthur Enhancement\n",
    "\n",
    "first_name = 'abc'\n",
    "last_name = 'def'\n",
    "message = f\"Thanks for completing the work on time {first_name.title()} {last_name.upper()}\"\n",
    "print(message)\n"
   ]
  },
  {
   "cell_type": "raw",
   "metadata": {},
   "source": [
    "#Adding white spaces to the strings\n",
    "\n",
    "print('python')\n",
    "print('python','c','c++')\n",
    "print('python\\n','c\\n','c++\\n') #\\n is used to print the character in the new line (\\n ---> new line delimiter)\n",
    "print('\\tpython') #\\t is used to add a new tab (\\n ----> new tab delimiter)\n",
    "print('favourite languages:', '\\t\\npython','\\t\\njava','\\t\\nc++')\n",
    "print('favourite languages:', '\\n\\tpython','\\n\\tjava','\\n\\tc++')"
   ]
  },
  {
   "cell_type": "code",
   "execution_count": 45,
   "metadata": {},
   "outputs": [
    {
     "name": "stdout",
     "output_type": "stream",
     "text": [
      " python\n",
      "java \n"
     ]
    }
   ],
   "source": [
    "#Removing white spaces from strings\n",
    "\n",
    "x = ' python'\n",
    "y= 'java '\n",
    "print(x)\n",
    "print(y)\n",
    "\n"
   ]
  },
  {
   "cell_type": "code",
   "execution_count": 38,
   "metadata": {},
   "outputs": [
    {
     "name": "stdout",
     "output_type": "stream",
     "text": [
      " python\n"
     ]
    },
    {
     "data": {
      "text/plain": [
       "'python'"
      ]
     },
     "execution_count": 38,
     "metadata": {},
     "output_type": "execute_result"
    }
   ],
   "source": [
    "print(x)\n",
    "x.lstrip()  #left strip, moves to left if any white space is there (left strip)"
   ]
  },
  {
   "cell_type": "code",
   "execution_count": 37,
   "metadata": {},
   "outputs": [
    {
     "name": "stdout",
     "output_type": "stream",
     "text": [
      "java \n"
     ]
    },
    {
     "data": {
      "text/plain": [
       "'java'"
      ]
     },
     "execution_count": 37,
     "metadata": {},
     "output_type": "execute_result"
    }
   ],
   "source": [
    "print(y)\n",
    "y.rstrip()   #right strip, moves to right if any white space is there (right strip)\n"
   ]
  },
  {
   "cell_type": "code",
   "execution_count": 41,
   "metadata": {},
   "outputs": [
    {
     "data": {
      "text/plain": [
       "'yellow'"
      ]
     },
     "execution_count": 41,
     "metadata": {},
     "output_type": "execute_result"
    }
   ],
   "source": [
    "z= ' yellow '\n",
    "z.strip()  #strip, check both right and left white space and removes if any (strip only)"
   ]
  },
  {
   "cell_type": "code",
   "execution_count": 42,
   "metadata": {},
   "outputs": [
    {
     "data": {
      "text/plain": [
       "'yellow '"
      ]
     },
     "execution_count": 42,
     "metadata": {},
     "output_type": "execute_result"
    }
   ],
   "source": [
    "z.lstrip()"
   ]
  },
  {
   "cell_type": "code",
   "execution_count": 43,
   "metadata": {},
   "outputs": [
    {
     "data": {
      "text/plain": [
       "' yellow'"
      ]
     },
     "execution_count": 43,
     "metadata": {},
     "output_type": "execute_result"
    }
   ],
   "source": [
    "z.rstrip()"
   ]
  },
  {
   "cell_type": "code",
   "execution_count": null,
   "metadata": {},
   "outputs": [],
   "source": [
    "#End of program!!!!!!\n"
   ]
  }
 ],
 "metadata": {
  "kernelspec": {
   "display_name": "Python 3",
   "language": "python",
   "name": "python3"
  },
  "language_info": {
   "codemirror_mode": {
    "name": "ipython",
    "version": 3
   },
   "file_extension": ".py",
   "mimetype": "text/x-python",
   "name": "python",
   "nbconvert_exporter": "python",
   "pygments_lexer": "ipython3",
   "version": "3.7.6"
  }
 },
 "nbformat": 4,
 "nbformat_minor": 4
}
