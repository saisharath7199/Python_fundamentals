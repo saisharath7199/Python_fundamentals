{
 "cells": [
  {
   "cell_type": "code",
   "execution_count": 17,
   "metadata": {},
   "outputs": [],
   "source": [
    "#Day 2 ------> UNDERSTANDING VARIABLES"
   ]
  },
  {
   "cell_type": "code",
   "execution_count": 18,
   "metadata": {},
   "outputs": [],
   "source": [
    "#Hash is used for commenting the lines."
   ]
  },
  {
   "cell_type": "code",
   "execution_count": 19,
   "metadata": {},
   "outputs": [
    {
     "data": {
      "text/plain": [
       "15"
      ]
     },
     "execution_count": 19,
     "metadata": {},
     "output_type": "execute_result"
    }
   ],
   "source": [
    "x = 7\n",
    "y = 8\n",
    "x + y"
   ]
  },
  {
   "cell_type": "code",
   "execution_count": 20,
   "metadata": {},
   "outputs": [],
   "source": [
    "#python is case sensitive language."
   ]
  },
  {
   "cell_type": "code",
   "execution_count": 21,
   "metadata": {},
   "outputs": [],
   "source": [
    "#Rules for declaring the variables.\n",
    "#1.No spaces between the variable name declarations.\n",
    "#2.Variable name should not start with the numbers.\n",
    "#3.We should not use the special characters while declaring a variable name."
   ]
  },
  {
   "cell_type": "code",
   "execution_count": 22,
   "metadata": {},
   "outputs": [],
   "source": [
    "#Introduction to data types.\n",
    "#1.String\n",
    "#2.List\n",
    "#3.Tuple\n",
    "#4.Dictionary\n",
    "\n",
    "#Datatypes are broadly classified as 2 types,\n",
    "#1.Mutable data type - we can edit/modify whenever we needed.\n",
    "#2.Immuntable data type - we cannot edit/modify once they are declared. Example - String datatype.\n",
    "\n",
    "#Introduction to string datatype:\n",
    "#Def : A string is nothing but a series of characters, it is classified as immutable datatype.\n",
    "\n",
    "#How to define a string?\n",
    "#A string can be declared in 3 possible ways, they are,\n",
    "#1.Using single quotes ('')\n",
    "#2.Using double quotes (\"\")\n",
    "#3.Using triple quotes (\"''\")\n"
   ]
  },
  {
   "cell_type": "code",
   "execution_count": 23,
   "metadata": {},
   "outputs": [
    {
     "data": {
      "text/plain": [
       "str"
      ]
     },
     "execution_count": 23,
     "metadata": {},
     "output_type": "execute_result"
    }
   ],
   "source": [
    "#How to verify and validate what kind of data type it is???\n",
    "# type(var_name)\n",
    "\n",
    "#Example\n",
    "name = 'sai'\n",
    "type(name)"
   ]
  },
  {
   "cell_type": "code",
   "execution_count": 24,
   "metadata": {},
   "outputs": [
    {
     "name": "stdout",
     "output_type": "stream",
     "text": [
      "Sai\n",
      "SAI\n",
      "sai\n"
     ]
    }
   ],
   "source": [
    "#Enhancement of code:\n",
    "name = 'sai'\n",
    "\n",
    "#Requirement : To correct the name formatting, i.e, first letter should be Upper case\n",
    "print(name.title())\n",
    "\n",
    "#Requirement : To correct the name formatting, i.e, total word should be Upper case\n",
    "print(name.upper())\n",
    "\n",
    "#Requirement : To correct the name formatting, i.e, total word should be lower case\n",
    "print(name.lower())\n"
   ]
  },
  {
   "cell_type": "code",
   "execution_count": null,
   "metadata": {},
   "outputs": [],
   "source": []
  },
  {
   "cell_type": "code",
   "execution_count": null,
   "metadata": {},
   "outputs": [],
   "source": []
  }
 ],
 "metadata": {
  "kernelspec": {
   "display_name": "Python 3",
   "language": "python",
   "name": "python3"
  },
  "language_info": {
   "codemirror_mode": {
    "name": "ipython",
    "version": 3
   },
   "file_extension": ".py",
   "mimetype": "text/x-python",
   "name": "python",
   "nbconvert_exporter": "python",
   "pygments_lexer": "ipython3",
   "version": "3.7.6"
  }
 },
 "nbformat": 4,
 "nbformat_minor": 4
}
